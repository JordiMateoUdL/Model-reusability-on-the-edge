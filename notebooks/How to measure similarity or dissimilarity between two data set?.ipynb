{
 "cells": [
  {
   "cell_type": "markdown",
   "id": "61676a55",
   "metadata": {},
   "source": [
    "# How to measure similarity or dissimilarity between two data set?\n",
    "\n",
    "\n",
    "In this notebook, we deal with the problem of determining how similar are two datasets. \n",
    "\n",
    "### Keywords\n",
    "\n",
    "MMD,similarity\n",
    "\n",
    "### Objective\n",
    "\n",
    "Understand how we can and can not determine the similarity between datasets.\n",
    "\n",
    "### Methodology\n",
    "\n",
    "We use some datasets that are obtained from measuring temperature and humidity using sensors and different devices. The dataset is obtained from this website."
   ]
  },
  {
   "cell_type": "code",
   "execution_count": null,
   "id": "5253134d",
   "metadata": {},
   "outputs": [],
   "source": [
    "# Install a pip package in the current Jupyter kernel\n",
    "import sys\n",
    "!{sys.executable} -m pip install matplotlib\n",
    "!{sys.executable} -m pip install seaborn\n",
    "!{sys.executable} -m pip install pandas\n",
    "!{sys.executable} -m pip install numpy\n",
    "!{sys.executable} -m pip install xlrd\n",
    "!{sys.executable} -m pip install openpyxl\n",
    "!{sys.executable} -m pip install torch\n",
    "!{sys.executable} -m pip install tensorflow\n",
    "import matplotlib.pyplot as plt\n",
    "import seaborn as sns\n",
    "import pandas as pd\n",
    "import numpy as np\n",
    "import glob\n",
    "import torch\n",
    "import itertools\n",
    "import os"
   ]
  },
  {
   "cell_type": "code",
   "execution_count": 41,
   "id": "da4faa0b",
   "metadata": {},
   "outputs": [
    {
     "name": "stdout",
     "output_type": "stream",
     "text": [
      "======pi3\n",
      "         Humidity  Temperature\n",
      "count  899.000000   899.000000\n",
      "mean    43.040044    28.525028\n",
      "std      6.173310     4.387950\n",
      "min     34.000000    19.000000\n",
      "25%     38.000000    25.000000\n",
      "50%     40.000000    31.000000\n",
      "75%     46.000000    32.000000\n",
      "max     59.000000    33.000000\n",
      "======\n",
      "======pi2\n",
      "          Humidity  Temperature\n",
      "count  1532.000000  1532.000000\n",
      "mean     27.599869    35.851828\n",
      "std      11.081249     6.571685\n",
      "min      15.000000     3.000000\n",
      "25%      19.000000    33.000000\n",
      "50%      21.500000    39.000000\n",
      "75%      35.000000    41.000000\n",
      "max      57.000000    45.000000\n",
      "======\n",
      "======pi5\n",
      "          Humidity  Temperature\n",
      "count  2078.000000  2078.000000\n",
      "mean     39.775746    27.508181\n",
      "std       6.899635     5.103708\n",
      "min      20.000000    18.000000\n",
      "25%      34.000000    23.000000\n",
      "50%      40.000000    27.000000\n",
      "75%      43.000000    32.000000\n",
      "max      63.000000    37.000000\n",
      "======\n",
      "======pi4\n",
      "          Humidity  Temperature\n",
      "count  1766.000000  1766.000000\n",
      "mean     28.201586    35.469989\n",
      "std      11.713730     6.548399\n",
      "min       0.000000    18.000000\n",
      "25%      16.000000    29.000000\n",
      "50%      26.000000    37.000000\n",
      "75%      35.000000    42.000000\n",
      "max      64.000000    45.000000\n",
      "======\n",
      "          Humidity  Temperature\n",
      "count  6275.000000  6275.000000\n",
      "mean     34.013386    31.931633\n",
      "std      11.489284     7.028605\n",
      "min       0.000000     3.000000\n",
      "25%      24.000000    26.000000\n",
      "50%      35.000000    32.000000\n",
      "75%      42.000000    38.000000\n",
      "max      64.000000    45.000000\n"
     ]
    }
   ],
   "source": [
    "datasets_path=\"../datasets/\"\n",
    "\n",
    "# Possible values Data_Experiment_1, Data_Experiment_2, GNFUV-USV-Dataset\n",
    "dataset=\"Data_Experiment_1\"\n",
    "\n",
    "# Create the final path to get the files\n",
    "file_path=datasets_path+dataset\n",
    "\n",
    "# Obtain a list of all the files in the path\n",
    "files = glob.glob(file_path + \"/*.xlsx\")\n",
    "\n",
    "# Combines all the devices datasets information into a huge dataset\n",
    "pi_d = []\n",
    "\n",
    "# Dictionary to assign each node with their dataset\n",
    "samples={}\n",
    "\n",
    "# Read all the files and prepare the dataframe\n",
    "n=1\n",
    "for file in files:\n",
    "    pi_dx = pd.read_excel(file)\n",
    "    print(\"======\"+os.path.basename(file).split('.')[0])\n",
    "    # Clean the dataset deleating the None values\n",
    "    pi_dx = pi_dx.replace(to_replace=' None', value=np.nan).dropna()\n",
    "    \n",
    "    # Ensure type of the numeric columns \n",
    "    pi_dx[\"Humidity\"]=pi_dx[\"Humidity\"].astype(float)\n",
    "    pi_dx[\"Temperature\"]=pi_dx[\"Temperature\"].astype(float)\n",
    "    \n",
    "    # Cleanning useless cols\n",
    "    del pi_dx['Experiment']\n",
    " \n",
    "    \n",
    "    samples[os.path.basename(file).split('.')[0]]=pi_dx\n",
    "    pi_d.append(pi_dx)\n",
    "    \n",
    "    print(pi_dx.describe())\n",
    "    print(\"======\")\n",
    "    n=n+1\n",
    "\n",
    "pi_df = pd.concat(pi_d)\n",
    "\n",
    "# Ensure type of the numeric columns \n",
    "pi_df[\"Humidity\"]=pi_df[\"Humidity\"].astype(float)\n",
    "pi_df[\"Temperature\"]=pi_df[\"Temperature\"].astype(float)\n",
    "\n",
    "# When we concat dataset, index must be duplicated, so it is better to reset them\n",
    "pi_df=pi_df.reset_index()\n",
    "del pi_df['index']\n",
    "\n",
    "# Get a summary of the final dataset\n",
    "#print(pi_df.nunique())\n",
    "print(pi_df.describe())"
   ]
  },
  {
   "cell_type": "code",
   "execution_count": 42,
   "id": "3064bc76",
   "metadata": {},
   "outputs": [
    {
     "data": {
      "text/plain": [
       "<seaborn.axisgrid.PairGrid at 0x132809100>"
      ]
     },
     "execution_count": 42,
     "metadata": {},
     "output_type": "execute_result"
    },
    {
     "data": {
      "image/png": "[encoded data removed]",
      "text/plain": [
       "<Figure size 414.475x360 with 6 Axes>"
      ]
     },
     "metadata": {},
     "output_type": "display_data"
    }
   ],
   "source": [
    "sns.set_theme(style=\"ticks\")\n",
    "sns.pairplot(pi_df, hue=\"Pi\")"
   ]
  },
  {
   "cell_type": "markdown",
   "id": "74c180f6",
   "metadata": {},
   "source": [
    "If we analyze the dataset * Data_Experiment_1 * we can see how the datasets pi2 and pi4 have quite similar distributions.\n",
    "\n",
    "Since we want to analyze all combinations of datasets, we will make a method to get all the pairs in a list."
   ]
  },
  {
   "cell_type": "code",
   "execution_count": 20,
   "id": "3207d7f4",
   "metadata": {},
   "outputs": [],
   "source": [
    "# Get all pairs from a list\n",
    "def get_all_pairs(l):\n",
    "    res = [(a, b) for idx, a in enumerate(l) for b in l[idx + 1:]]\n",
    "    return res\n",
    "\n",
    "# initializing list\n",
    "t = ['p1', 'p2', 'p3', 'p4']\n",
    "expected = [('p1', 'p2'), ('p1', 'p3'), ('p1', 'p4'), ('p2', 'p3'), ('p2', 'p4'), ('p3', 'p4')]\n",
    "\n",
    "res = get_all_pairs(t)\n",
    "\n",
    "assert res == expected, \"Test failed.\"\n"
   ]
  },
  {
   "cell_type": "code",
   "execution_count": 73,
   "id": "9db7dbf9",
   "metadata": {},
   "outputs": [
    {
     "name": "stdout",
     "output_type": "stream",
     "text": [
      "[['pi2', 'pi4', 0.6017160522666316], ['pi3', 'pi5', 3.2642985843537033], ['pi5', 'pi4', 11.57416040556463], ['pi2', 'pi5', 12.175876457831261], ['pi3', 'pi4', 14.838458989918333], ['pi3', 'pi2', 15.440175042184965]]\n"
     ]
    }
   ],
   "source": [
    "def getScore(elem):\n",
    "    return elem[2]\n",
    "\n",
    "target=\"Humidity\"\n",
    "#target=\"Temperature\"\n",
    "scores = []\n",
    "for x,y in get_all_pairs([k  for  k in  samples.keys()]):\n",
    "    mean_x = samples[x][target].mean()\n",
    "    mean_y = samples[y][target].mean()\n",
    "    res = abs(mean_x - mean_y)\n",
    "    scores.append([x,y,res])\n",
    "   # print (\"|mean(\"+ str(x) +\") - \" + \"mean(\"+ str(x) + \")| = \" + str(res) )\n",
    "scores.sort(key=getScore)\n",
    "print(scores)"
   ]
  },
  {
   "cell_type": "markdown",
   "id": "3cb44923",
   "metadata": {},
   "source": [
    "At this point, we have analyzed the distance between the different distributions considering the horizontal distance between the distributions (average). This fact is incorrect, as we do not consider the vertical space. **Explanation:** Imagine two completely different distributions vertically but identical horizontally. This remaining average will give us 0, erroneously indicating that the distributions are the same."
   ]
  },
  {
   "cell_type": "markdown",
   "id": "f5ecdd39",
   "metadata": {},
   "source": [
    "### Maximum Mean Discrepancy (MMD)\n",
    "\n",
    "**Maximum Mean Discrepancy (MMD)** is a distance on the space of probability measures which has found numerous applications in machine learning and nonpara- metric testing. This distance is based on the notion of embedding probabilities in a reproducing kernel Hilbert space."
   ]
  },
  {
   "cell_type": "code",
   "execution_count": 60,
   "id": "90c5b915",
   "metadata": {
    "scrolled": true
   },
   "outputs": [
    {
     "name": "stdout",
     "output_type": "stream",
     "text": [
      "0.5492989092810665\n"
     ]
    }
   ],
   "source": [
    "from sklearn import metrics\n",
    "def mmd_rbf(X, Y, gamma=1.0):\n",
    "    \"\"\"MMD using rbf (gaussian) kernel (i.e., k(x,y) = exp(-gamma * ||x-y||^2 / 2))\n",
    "    Arguments:\n",
    "        X {[n_sample1, dim]} -- [X matrix]\n",
    "        Y {[n_sample2, dim]} -- [Y matrix]\n",
    "    Keyword Arguments:\n",
    "        gamma {float} -- [kernel parameter] (default: {1.0})\n",
    "    Returns:\n",
    "        [scalar] -- [MMD value]\n",
    "    \"\"\"\n",
    "    XX = metrics.pairwise.rbf_kernel(X, X, gamma)\n",
    "    YY = metrics.pairwise.rbf_kernel(Y, Y, gamma)\n",
    "    XY = metrics.pairwise.rbf_kernel(X, Y, gamma)\n",
    "    return XX.mean() + YY.mean() - 2 * XY.mean()\n",
    "\n",
    "a = np.arange(1, 5).reshape(2, 2)\n",
    "b = [[7, 6], [4, 3], [1, 1], [0, 2]]\n",
    "b = np.array(b)\n",
    "expected=0.5492989092810665\n",
    "#print(a)\n",
    "#print(b)\n",
    "#print(mmd_rbf(a, b))\n",
    "assert mmd_rbf(a, b) == expected, \"Test failed.\""
   ]
  },
  {
   "cell_type": "code",
   "execution_count": 74,
   "id": "4a10c887",
   "metadata": {},
   "outputs": [],
   "source": [
    "def mmd_linear(X, Y):\n",
    "    \"\"\"MMD using linear kernel (i.e., k(x,y) = <x,y>)\n",
    "    Note that this is not the original linear MMD, only the reformulated and faster version.\n",
    "    The original version is:\n",
    "        def mmd_linear(X, Y):\n",
    "            XX = np.dot(X, X.T)\n",
    "            YY = np.dot(Y, Y.T)\n",
    "            XY = np.dot(X, Y.T)\n",
    "            return XX.mean() + YY.mean() - 2 * XY.mean()\n",
    "    Arguments:\n",
    "        X {[n_sample1, dim]} -- [X matrix]\n",
    "        Y {[n_sample2, dim]} -- [Y matrix]\n",
    "    Returns:\n",
    "        [scalar] -- [MMD value]\n",
    "    \"\"\"\n",
    "    delta = X.mean(0) - Y.mean(0)\n",
    "    return delta.dot(delta.T)"
   ]
  },
  {
   "cell_type": "code",
   "execution_count": 75,
   "id": "277c3262",
   "metadata": {},
   "outputs": [],
   "source": [
    "def mmd_poly(X, Y, degree=2, gamma=1, coef0=0):\n",
    "    \"\"\"MMD using polynomial kernel (i.e., k(x,y) = (gamma <X, Y> + coef0)^degree)\n",
    "    Arguments:\n",
    "        X {[n_sample1, dim]} -- [X matrix]\n",
    "        Y {[n_sample2, dim]} -- [Y matrix]\n",
    "    Keyword Arguments:\n",
    "        degree {int} -- [degree] (default: {2})\n",
    "        gamma {int} -- [gamma] (default: {1})\n",
    "        coef0 {int} -- [constant item] (default: {0})\n",
    "    Returns:\n",
    "        [scalar] -- [MMD value]\n",
    "    \"\"\"\n",
    "    XX = metrics.pairwise.polynomial_kernel(X, X, degree, gamma, coef0)\n",
    "    YY = metrics.pairwise.polynomial_kernel(Y, Y, degree, gamma, coef0)\n",
    "    XY = metrics.pairwise.polynomial_kernel(X, Y, degree, gamma, coef0)\n",
    "    return XX.mean() + YY.mean() - 2 * XY.mean()"
   ]
  },
  {
   "cell_type": "code",
   "execution_count": 81,
   "id": "af07980f",
   "metadata": {},
   "outputs": [
    {
     "name": "stdout",
     "output_type": "stream",
     "text": [
      "[['pi3', 'pi2', 11.57416040556463], ['pi3', 'pi5', 11.57416040556463], ['pi3', 'pi4', 11.57416040556463], ['pi2', 'pi5', 11.57416040556463], ['pi2', 'pi4', 11.57416040556463], ['pi5', 'pi4', 11.57416040556463]]\n"
     ]
    }
   ],
   "source": [
    "def getScore(elem):\n",
    "    return elem[2]\n",
    "\n",
    "scores_rbf = []\n",
    "scores_linear = []\n",
    "scores_polyy = []\n",
    "for x,y in get_all_pairs([k  for  k in  samples.keys()]):\n",
    "    sx = samples[x][['Temperature', 'Humidity']].values.tolist()\n",
    "    sy = samples[y][['Temperature', 'Humidity']].values.tolist()\n",
    "    res_rbf = mmd_rbf(sx, sy)\n",
    "    scores_rbf.append([x,y,res])\n",
    "scores_rbf.sort(key=getScore)\n",
    "print(scores_rbf)"
   ]
  }
 ],
 "metadata": {
  "kernelspec": {
   "display_name": "Python 3 (ipykernel)",
   "language": "python",
   "name": "python3"
  },
  "language_info": {
   "codemirror_mode": {
    "name": "ipython",
    "version": 3
   },
   "file_extension": ".py",
   "mimetype": "text/x-python",
   "name": "python",
   "nbconvert_exporter": "python",
   "pygments_lexer": "ipython3",
   "version": "3.9.7"
  }
 },
 "nbformat": 4,
 "nbformat_minor": 5
}
